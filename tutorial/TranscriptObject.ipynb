{
 "cells": [
  {
   "cell_type": "markdown",
   "metadata": {},
   "source": [
    "# Transcript objects\n",
    "\n",
    "The below code takes a GFF and goes through it line by line to extract the genetic features (genes)\n",
    "\n",
    "My code focusses on transcripts rather than genes because transcripts should have unique coding sequences whereas genes can have multiple transcripts depending on alternative splicing etc.\n",
    "\n",
    "The GFF parser is not the best one around so it is the most likely place to have my code break.\n",
    "You will therefore need to make sure your GFF conforms to a few rules if you want it to work. Alternatively you can modify the `GFF_line` object and `hash_gff` function above.\n",
    "\n",
    "Rules:\n",
    " - Every transcript must have a unique ID which is specified using the variable index_label\n",
    " - All features of that transcript should share that unique ID (ie CDS, intron, exon, 5'-UTR or 3'-UTR should have this label in their attributes \n",
    " - transcripts should be identified as feature type `mRNA` *case sensitive*\n",
    " - The coding sequences should be feature type `CDS`\n",
    " - Exons are the sum of CDS + UTRs ie exons and CDS are not the same thing\n",
    "\n",
    "e.g.\n",
    "\n",
    "    C0077\tAUGUSTUS\tgene\t8157\t13385\t0.05\t-\t.\tgene_id=g1\n",
    "    C0077\tAUGUSTUS\tmRNA\t8157\t13385\t0.05\t-\t.\tgene_id=g1;transcript_id=g1.t1\n",
    "    C0077\tAUGUSTUS\texon\t8157\t8487\t0.59\t-\t.\tgene_id=g1;transcript_id=g1.t1\n",
    "    C0077\tAUGUSTUS\t3'-UTR\t8157\t8340\t0.59\t-\t.\tgene_id=g1;transcript_id=g1.t1\n",
    "    C0077\tAUGUSTUS\tCDS\t8341\t8487\t1\t-\t0\tgene_id=g1;transcript_id=g1.t1\n",
    "    C0077\tAUGUSTUS\texon\t8733\t8837\t1\t-\t.\tgene_id=g1;transcript_id=g1.t1\n",
    "    C0077\tAUGUSTUS\tCDS\t8733\t8837\t1\t-\t0\tgene_id=g1;transcript_id=g1.t1\n",
    "    C0077\tAUGUSTUS\texon\t9139\t9201\t1\t-\t.\tgene_id=g1;transcript_id=g1.t1\n",
    "    C0077\tAUGUSTUS\tCDS\t9139\t9201\t1\t-\t0\tgene_id=g1;transcript_id=g1.t1\n",
    "    C0077\tAUGUSTUS\texon\t9875\t9951\t0.95\t-\t.\tgene_id=g1;transcript_id=g1.t1\n",
    "    C0077\tAUGUSTUS\tCDS\t9875\t9951\t0.95\t-\t2\tgene_id=g1;transcript_id=g1.t1\n",
    "    C0077\tAUGUSTUS\texon\t10390\t10471\t1\t-\t.\tgene_id=g1;transcript_id=g1.t1\n",
    "    C0077\tAUGUSTUS\tCDS\t10390\t10471\t1\t-\t0\tgene_id=g1;transcript_id=g1.t1\n",
    "    C0077\tAUGUSTUS\texon\t11106\t11154\t0.94\t-\t.\tgene_id=g1;transcript_id=g1.t1\n",
    "    C0077\tAUGUSTUS\tCDS\t11106\t11154\t0.94\t-\t1\tgene_id=g1;transcript_id=g1.t1\n",
    "    C0077\tAUGUSTUS\texon\t12646\t13385\t0.69\t-\t.\tgene_id=g1;transcript_id=g1.t1\n",
    "    C0077\tAUGUSTUS\tCDS\t12646\t13259\t0.69\t-\t0\tgene_id=g1;transcript_id=g1.t1\n",
    "    C0077\tAUGUSTUS\t5'-UTR\t13260\t13385\t0.31\t-\t.\tgene_id=g1;transcript_id=g1.t1\n",
    "\n",
    "** warning **    \n",
    "The delimiters used to split the attribute field and the attribute field keys from their values are variable across formats\n",
    "You need to specify which ones are used. e.g.\n",
    "\n",
    "    gene_id=g1;transcript_id=g1.t1\n",
    "\n",
    "The two fields (`gene_id` and `transcript_id`) are split by `;` which I call `info_delimiter` and each field is then split into its key (e.g. `transcript_id`) and value (e.g. `g1.t1`) by  the info_field_delimiter \"=\".\n",
    "\n",
    "You can specify the delimiters in your file when you run my functions.\n",
    "\n",
    "Some GFF files use different delimiters and even worse, some use just spaces - this is the most likely place for the code to break - so be careful.\n",
    "\n",
    "\n"
   ]
  },
  {
   "cell_type": "markdown",
   "metadata": {},
   "source": [
    "---\n",
    "# Read the transcripts into a dictionary of Transcript objects\n",
    "\n",
    "Here we use the hash_gff function to read all the transcripts into a dictionary of transcript objects\n",
    "Each transcript is keyed in the dictionary by its ID\n",
    "\n",
    "We also read the reference genome into a dictionary.\n",
    "\n",
    "*Depending on the number of transcripts this could take a couple minutes*"
   ]
  },
  {
   "cell_type": "code",
   "execution_count": 1,
   "metadata": {},
   "outputs": [],
   "source": [
    "from annotation import Transcript\n",
    "from Bio import SeqIO\n",
    "\n",
    "GFF_file = \"/scratch/research/references/chlamydomonas/5.3_chlamy_w_organelles_mt_minus/annotation/concatenated_GFF/final.strict.GFF3\"\n",
    "ref_genome_fasta = '/scratch/research/references/chlamydomonas/5.3_chlamy_w_organelles_mt_minus/chlamy.5.3.w_organelles_mtMinus.fasta'\n",
    "\n",
    "transcript_dictionary = Transcript.hash_gff(GFF_file, index_label = 'ness_ID', info_delimiter=\";\", info_field_delimiter = '=', quiet=True)\n",
    "ref_genome_dictionary = SeqIO.to_dict(SeqIO.parse(open(ref_genome_fasta), 'fasta'))"
   ]
  },
  {
   "cell_type": "markdown",
   "metadata": {},
   "source": [
    "---\n",
    "# Transcript objects\n",
    "---\n",
    "\n",
    "Transcript objects are my own custom class that keeps rich information about the features of a transcript that are encoded in the GFF.\n",
    "\n",
    "You can access the information using the attributes and methods of each transcript"
   ]
  },
  {
   "cell_type": "code",
   "execution_count": 2,
   "metadata": {},
   "outputs": [
    {
     "name": "stdout",
     "output_type": "stream",
     "text": [
      "Transcript Name:  26902562\n",
      "Transcript chromosomes:  chromosome_3\n",
      "Transcript start position:  5730310\n",
      "Transcript end position:  5737375\n",
      "Transcript DNA strand:  -\n"
     ]
    }
   ],
   "source": [
    "import random\n",
    "\n",
    "\n",
    "\n",
    "example_ID = list(transcript_dictionary.keys())[random.randint(0, len(transcript_dictionary))]\n",
    "example_transcript = transcript_dictionary[example_ID]\n",
    "\n",
    "print(\"Transcript Name: \", example_transcript.name)\n",
    "print(\"Transcript chromosomes: \", example_transcript.seqid)\n",
    "print(\"Transcript start position: \", example_transcript.start)\n",
    "print(\"Transcript end position: \", example_transcript.end)\n",
    "print(\"Transcript DNA strand: \", example_transcript.strand)"
   ]
  },
  {
   "cell_type": "markdown",
   "metadata": {},
   "source": [
    "# Features\n",
    "One of the most important attributes of the transcript is its `feats` which is a dictionary of all the features of the transcript.\n",
    "Each key in the dictionary refers to a feature type and is itself a dictionary where the key is the start position of each feature and it's value is the GFF line that defined it. \n",
    "\n",
    "This effectively organizes all the features of the transcript and allows you to access all the information in the GFF\n"
   ]
  },
  {
   "cell_type": "code",
   "execution_count": 3,
   "metadata": {},
   "outputs": [
    {
     "name": "stdout",
     "output_type": "stream",
     "text": [
      "All the feature types: ['CDS', 'five_prime_UTR', 'exon', 'three_prime_UTR', 'mRNA', 'gene']\n",
      "Key is start 5731814\n",
      "\tValue is GFF line <class 'annotation.GFF_line.GFF_line'>\n",
      "\tValue has GFF info chromosome_3 5731814 5732351\n",
      "Key is start 5735126\n",
      "\tValue is GFF line <class 'annotation.GFF_line.GFF_line'>\n",
      "\tValue has GFF info chromosome_3 5735126 5735591\n",
      "Key is start 5734775\n",
      "\tValue is GFF line <class 'annotation.GFF_line.GFF_line'>\n",
      "\tValue has GFF info chromosome_3 5734775 5734911\n",
      "Key is start 5730953\n",
      "\tValue is GFF line <class 'annotation.GFF_line.GFF_line'>\n",
      "\tValue has GFF info chromosome_3 5730953 5731617\n",
      "Key is start 5737039\n",
      "\tValue is GFF line <class 'annotation.GFF_line.GFF_line'>\n",
      "\tValue has GFF info chromosome_3 5737039 5737188\n",
      "Key is start 5732599\n",
      "\tValue is GFF line <class 'annotation.GFF_line.GFF_line'>\n",
      "\tValue has GFF info chromosome_3 5732599 5734569\n",
      "Key is start 5736796\n",
      "\tValue is GFF line <class 'annotation.GFF_line.GFF_line'>\n",
      "\tValue has GFF info chromosome_3 5736796 5736949\n",
      "Key is start 5735765\n",
      "\tValue is GFF line <class 'annotation.GFF_line.GFF_line'>\n",
      "\tValue has GFF info chromosome_3 5735765 5736429\n"
     ]
    }
   ],
   "source": [
    "# All feature types\n",
    "print(\"All the feature types:\", list(example_transcript.feats.keys()))\n",
    "# Look at CDS features\n",
    "for k,v in example_transcript.feats['CDS'].items():\n",
    "    print(\"Key is start\", k)\n",
    "    print(\"\\tValue is GFF line\", type(v))\n",
    "    print (\"\\tValue has GFF info\", v.seqid, v.start, v.end)"
   ]
  },
  {
   "cell_type": "markdown",
   "metadata": {},
   "source": [
    "# Accessing coding sequences and translations\n",
    "There are also numerous methods of a transcript object that relate to its coding sequence, translation, codons, degeneracy etc.\n",
    "\n",
    " - To access actual sequence you need to provide the dictionary with the reference chromosomes as BioPython Seq Record\n",
    " - In general I return these sequences as lists (which is a bit annoying but it makes it easier to associate single positions with codons)\n",
    " - It is easy enough to use the string `.join(list)` method to bring it together\n"
   ]
  },
  {
   "cell_type": "code",
   "execution_count": 4,
   "metadata": {},
   "outputs": [
    {
     "name": "stdout",
     "output_type": "stream",
     "text": [
      "coding sequence: ATGGTGGAAGTGGAGGTGCTGCCGCCGTCCGTGCCGGCGGTGATCTGCTTCGTGCTCGCCCTGACGGTCGGGCCGCGGGTCGCGGCTGTGACGGTCTTCGCCATCCTCGCCGCTACATTTGCCTTCAGCAGCGCCGGGGCGGGCATCCAGGCGCAGCTGGCGGCGGCGGCCGCACTGACGGCGGCGGTCCCCGCCACGTTCCTGTGGCTGCAGCGGCGGCGAGCGCCGCCACAGCAGCGGCAGCAGCAGCAGCCCGCCGCGCTACTGCCCCCAGAGCAAGAGCAACTCGCTGGCCCCAGACCAGGAGGCCCAGCCGCCACGCCCGCGCCGGCGGCAGTAGCAGGCAGTAGCAGCAGCCTTGCCGCTGCGCTACTGCCGCAGCTAGGCTTGCGCATGCAGCGCACCGCTGCGTGGGCTGCTGCGACGTCGGCGGACCTGGAGGAAGGGCTCAGCCTCCAGCGGCCATCGCCGGCACCGCAGGCGTCTGCCGCTCCCTCCAGCCCCTCCGACACCTCAGCAGCGCCTCCCCCAGGCAGCGCGGCAGGCGCGGCGGACGCAGCAGCCGCCAACCACCTCTCCCGTCTGCTCCCGGATTTCAGTGTGGGAGAGGGCGGCGGGCAGGAACAGCCGCTCCAGCTGTGGCGCGGCGGGCGGCAGCAGCCGGGTGCCTCCGCAGCGCTGACGGAGGTGGTGGGCGTCACGGGCGGCGGCAACACCGCCAGCGGCAACGCCACCCGCTGCACCACCACCTGGTCATCACTGCCGCTGTTCTGCTTCGCAGAGGTGCTGAGCTGGATGGAGGACGACTGCGACCGGCGGCGGCTGCGGCTGGTGTGCCGGGACTGGCGCGCCGCCGCCGCCGCCGCCACCACGCACCTGGCGCCGCCGCGGTCGGGTGCCCGACACCTGGGTGCGCTGGCGGCGGCGTTCCCCGGCCTCACAGCCCTGGACCTGTCAGCTTGCCTGGCGCACCTGACGCCGCCCCGAATGCGCCACCTGTCGCCGCTGCGGCACCTGTCCCGCCTCACGCTGGGATGCCCCTCGCCCGCCTCCGCCGCCGCCACGGAGGATTTGTTGCGAGCCCAGCTGCAACAGCAGCAGCAACAGCAGCAGCCCCACAACCCCTATCTGGCAGACGCGGCGGCGGCGGCGGCGGCGCCGGGGCTCCTGGCGGCTGACAGCTGGCGGCGGCAGCGCTGCACGACGTCCACCTCGGAGAGCAGTGGCGGCGCGGCGGCGGTGACGGATGCAATGGTGCAGGAGCTGGTAGCGGCGCTGCTGCGAGGTGGCGGCGGCGGAGGGCGGCGGCAGGCGGGAGCAGCTGGAGCGGGTGGTGGTGGCGGTGGTGGTGGTGGGGCAGGAGGAGGTGGTGGTGGCGGTCGCGGCGAGCTGCGTGTGCTCAGCATTGCGCAGTGTGTGCGGGTGACGGACGCAGGCGTGCTGGCTCTGACGGCCCTGACCGGCCTTACGTCTCTGGACCTTTGCGGCTGCTGCGGCGTGAGCGACGTGGGCGTCATGCTGCTGGCGCGACTGCCGCTGCTGCAGGGGCTGCAGCTGGCATGGTGCGTCAAGGTGTCCAACGCGGGTCTCCGCGGCCTGGCTGTGCTGCCGCGCCTGAGCCACCTGTCCGTGGCGGGCTGCCCGCTGGTGTCGGAGGCGGGAGTGGCGGGCCTGTCCACCCTCAGCCGCCTGGCCTGTCTGGACCTCACCCACCTAGGCATCACGCAGCAGCGGGCCACCGTCACCGACGCCGCACTGTCCGCACTGTGTGGCGGCGGCACACCTGGCACGGCAGGTGGCGGCGGCGGTGGTGGCGCAGCAAGTGCTGCCAGGGATCAGGGTGGCGGCGCGCCGCTGGCGCCGCCGCCGCATCCTCGGCTCACGCGGCTGGCCTTTGGCGGCGGCCGCGGCGGCGGCACGCGCGTTACGGACGCGGGCTTGGCGGGCCTGGCGGCGGCGCAGCCGCAGTTGGCAGGGCTGACGCTACTGTCGCTGCAGTTCGTGAGCGACGCCGGTCTGGAAGCGGTGGTTGCGGCACTGGGCGACCTCACGAGCCTGTGTGTGCGGGGCTGCGGTCCGGGCGTGACGCGAGGCTGTGTGGCGGCGCTGACGGAGGCGGTGGCGGCGCGCGGCGGCCGGCCGGCGGCGCCGCTGCCGCCTCGGGCGGAGCCGTGGTGGCGCCTGCGGGCGGCGCAGGCGGCGGCGGCGGCGGCTGGGTACCGCGTGGGTGGGGCGGGGGGTCTGGCGATGCCACGGCTGCAGGAGCTGAGCCTGATGCACAACCCGTTTGTGGCGCTCCGAGATGAAGACGTGGCCAGGCTGTGTGGTGCTGCTGCTGCTACTGCTGCTGCGGCTGCTGCGGCTGGGGGTGGCGGCGGGGGCTGCCTGACAAGCCTGAGCCTGGGCGGTGCGGTGCTGCTGGTGCCGCAACTTCCGGCACCGGCCCCGCCGCCGCCACAGCAGCCGCCACAGCCACAGCCACCACAGCAGCAACAGCAGCCCCAGCAGCAGCAGCAGCAGCAGCAGCAACAGCAGCCCCAGCAGCAACAGCCAGGCGCCGCTGAGGTGGTGGGGGGGCATGACGCACTGGCTGCGGGCGGCGACGGCGGCGCGCACGGCCCTGACGGCGGCTATCACAATATCGCAGCTGCGGAGCTGGCGGCGGCGGCGGTGGCGAACGCGCCCGGCACTGCACCCCAGGGCGTGCTGCTGGCACTTGGGGCCGGACCTGGTGGTGGTGGTGGTGGAGGAGGTGCTGGCGGCGGCGGCGGCGGCGGCGGTGGCGGCGGCGGTGCGGGAGCAGCAGGCGGCGGCGGCGGCGGTGGTGGCGGTGGAGGAGGTGGCGGAGGAGGTGCCGCCGCGGCCGCCGTCAATGAGCCGCCGGATGCGTTGCGGTCTGTTGGCCTGGGTCTGGTGTCCCTACGTGCCATGGCGGTGCTCACCCACCTGACGTCGCTGTCGCTGGTCGGCTACACAGGGCCCTTCCGCACCCGCGCCTCGGGCCCTGCCGCTGCAGCTGCAGCTGCTGCGCTGCAGGCCCAGGGCTCGCTGCTCTCGGGCGTTGCAGCAGGCATGGCCCCGCCGGTGCGGCACCAGCAGCCGCCGCACGATTTGTCTCCGTGGTGCACCACCGCCAGCAGCGCCAGCAGTCGAGGCGGAATCGGAGGTGGAAGCGGCGGCGGCGCGGGCGCAGGCGGCAGTGGCGAAGGCGTGAGTAGCAGGGGCGGTGGCAATGGCGGCAGCGCCCCCGCCTCTCTCGCCGGCTCCGCGGATGCGCCGCCACCGCCGCCGCCGCCTTCCCTAGTCTCAACTCCGGCGTCGCCGCCGCCGCCATCCTCGACGGTGCAGCCGCCGCTGACGGCGCTGGTGCGGCTGCGTCATTTGGAGCTGTCGGGCGCGAGCCAGCTGGATGACGGCGGCGTGGGTGCGCTGGCGGCGGCGCTGACGGGGCTGCGGACGCTGCTGCTGGCGCGCTGCGGCCGACTCACGGACGGCGCGGCGCTGGCTCTGGCGGCGGCACCGGCCCTCACCACCGGGCTACAGGTGCTGGACCTGTCCCACTGCACCCGCATCTCCGACGCCGCCCTGCTAGCCCTGGCCTGCCTGAGAGGACTGCGCCGCCTGCACCTGGCGGCCGCCGGCGGCCCGGGCTCGTCAGTATCCAGCCCCGTACCCAGCCCCAGCCGCAGCAGCAGCAGCAGCGCCGCCGTCAGCGGCGGCGGCGGCACGACTCACGGCGGCGTGGCTGCTCTGCTGGCTACAGCCACCGCTGGCGGCTGTAGCAGTAGCATCAGTGACGTGGGCCTGGCGGCCCTGGCGGCGCTGCGGCGGCTGGAGCTCCTGGATCTCAGCTACTGCCCGGGATCCAGGCTGACTGGATCCGGATTCGCCGCGTGGACGGGCAGGAGATCTGGATCCAGGCTGGCCACGCTGCTCGTCCAGCACGTGGCCGCGCTGAGCGATGAGGGGCTGGCGGCGGCGGCGGGCGCGCTGCGCGGGCTGGCGCGGCTGGAGGCGGCGGGCTGCGAGCGGCTGGGCGACGCCGGCGTGACGTGCCTGGCGCGGCTGCCGCTGCTAACCTCTGTTGATCTGTCCCACTGCCCGCGCATCGGCGACGCCGCGCTGGTGGCGTTGGCCCGCCTGCCGCTGCTGGCGTCACTCAAGCTGTCGGGCTGTGTGCGCGTGTCGGACGCCGGAATCATTGCACTGGCCACCGGCGGCAGTGACGGCGGCGGCGGCGGCGGCAGTAGTGACGCGGCAGCACTAGTCTCCCCAGCAGCAGCCGGGCCAAGTGGCGTTGGGGCCGTTGGAGGTGGAGCATTTGCGGCGGCGGCGGCGGCGCCTGCTGGTCCAGAGGCGGCGGAGGCGCCGCCGCCGGCTGTGGCACACCGGCCCTGCCCGCTTCTGACGTTGCATCTGGACAACTGCATCGGTGTGGGCGATGAAGGGGTGGCGGCGCTGGCGGCCGCCGCCACCGGAGCGGCGGCGCCTCCTCGGGCTAGCGGCGGCGGCTCCGCCGCCGCCACCGCCGGAGCGGCAGCGGGCGTGGCGGCCGGCTCCGGCGGCTGCGGGATGGTGTCGTTGCGTCTGAGCCGCTGCCCCGCGCTCACGGACGCTGGGGTGGCGGCGCTGGCGGCGGGGCTGACAGGGCTGTGTGCGCTGAGCCTGGCGCACTGCCCCGGCGTAAGCCCGGCGGGGGTGCTGGCGCTGTCGCGCATCACCAGCCTGGCATCACTTGAGATTTGA\n"
     ]
    }
   ],
   "source": [
    "print('coding sequence:', \"\".join(example_transcript.cds(ref_genome_dictionary)))"
   ]
  },
  {
   "cell_type": "code",
   "execution_count": 5,
   "metadata": {},
   "outputs": [
    {
     "name": "stdout",
     "output_type": "stream",
     "text": [
      "translation sequence: MVEVEVLPPSVPAVICFVLALTVGPRVAAVTVFAILAATFAFSSAGAGIQAQLAAAAALTAAVPATFLWLQRRRAPPQQRQQQQPAALLPPEQEQLAGPRPGGPAATPAPAAVAGSSSSLAAALLPQLGLRMQRTAAWAAATSADLEEGLSLQRPSPAPQASAAPSSPSDTSAAPPPGSAAGAADAAAANHLSRLLPDFSVGEGGGQEQPLQLWRGGRQQPGASAALTEVVGVTGGGNTASGNATRCTTTWSSLPLFCFAEVLSWMEDDCDRRRLRLVCRDWRAAAAAATTHLAPPRSGARHLGALAAAFPGLTALDLSACLAHLTPPRMRHLSPLRHLSRLTLGCPSPASAAATEDLLRAQLQQQQQQQQPHNPYLADAAAAAAAPGLLAADSWRRQRCTTSTSESSGGAAAVTDAMVQELVAALLRGGGGGGRRQAGAAGAGGGGGGGGGAGGGGGGGRGELRVLSIAQCVRVTDAGVLALTALTGLTSLDLCGCCGVSDVGVMLLARLPLLQGLQLAWCVKVSNAGLRGLAVLPRLSHLSVAGCPLVSEAGVAGLSTLSRLACLDLTHLGITQQRATVTDAALSALCGGGTPGTAGGGGGGGAASAARDQGGGAPLAPPPHPRLTRLAFGGGRGGGTRVTDAGLAGLAAAQPQLAGLTLLSLQFVSDAGLEAVVAALGDLTSLCVRGCGPGVTRGCVAALTEAVAARGGRPAAPLPPRAEPWWRLRAAQAAAAAAGYRVGGAGGLAMPRLQELSLMHNPFVALRDEDVARLCGAAAATAAAAAAAGGGGGGCLTSLSLGGAVLLVPQLPAPAPPPPQQPPQPQPPQQQQQPQQQQQQQQQQQPQQQQPGAAEVVGGHDALAAGGDGGAHGPDGGYHNIAAAELAAAAVANAPGTAPQGVLLALGAGPGGGGGGGGAGGGGGGGGGGGGAGAAGGGGGGGGGGGGGGGGAAAAAVNEPPDALRSVGLGLVSLRAMAVLTHLTSLSLVGYTGPFRTRASGPAAAAAAAALQAQGSLLSGVAAGMAPPVRHQQPPHDLSPWCTTASSASSRGGIGGGSGGGAGAGGSGEGVSSRGGGNGGSAPASLAGSADAPPPPPPPSLVSTPASPPPPSSTVQPPLTALVRLRHLELSGASQLDDGGVGALAAALTGLRTLLLARCGRLTDGAALALAAAPALTTGLQVLDLSHCTRISDAALLALACLRGLRRLHLAAAGGPGSSVSSPVPSPSRSSSSSAAVSGGGGTTHGGVAALLATATAGGCSSSISDVGLAALAALRRLELLDLSYCPGSRLTGSGFAAWTGRRSGSRLATLLVQHVAALSDEGLAAAAGALRGLARLEAAGCERLGDAGVTCLARLPLLTSVDLSHCPRIGDAALVALARLPLLASLKLSGCVRVSDAGIIALATGGSDGGGGGGSSDAAALVSPAAAGPSGVGAVGGGAFAAAAAAPAGPEAAEAPPPAVAHRPCPLLTLHLDNCIGVGDEGVAALAAAATGAAAPPRASGGGSAAATAGAAAGVAAGSGGCGMVSLRLSRCPALTDAGVAALAAGLTGLCALSLAHCPGVSPAGVLALSRITSLASLEIX\n"
     ]
    }
   ],
   "source": [
    "print('translation sequence:', \"\".join(example_transcript.aa(ref_genome_dictionary)))"
   ]
  },
  {
   "cell_type": "markdown",
   "metadata": {},
   "source": [
    "### For every position in the coding sequence you can also get its degeneracy or position in the reference:\n",
    "\n",
    "    "
   ]
  },
  {
   "cell_type": "code",
   "execution_count": 6,
   "metadata": {},
   "outputs": [
    {
     "name": "stdout",
     "output_type": "stream",
     "text": [
      "base: A \tdegeneracy: 0 \tgenomic position: 5737188\n",
      "base: T \tdegeneracy: 0 \tgenomic position: 5737187\n",
      "base: G \tdegeneracy: 0 \tgenomic position: 5737186\n",
      "base: G \tdegeneracy: 0 \tgenomic position: 5737185\n",
      "base: T \tdegeneracy: 0 \tgenomic position: 5737184\n",
      "base: G \tdegeneracy: 4 \tgenomic position: 5737183\n",
      "base: G \tdegeneracy: 0 \tgenomic position: 5737182\n",
      "base: A \tdegeneracy: 0 \tgenomic position: 5737181\n",
      "base: A \tdegeneracy: 2 \tgenomic position: 5737180\n",
      "base: G \tdegeneracy: 0 \tgenomic position: 5737179\n",
      "base: T \tdegeneracy: 0 \tgenomic position: 5737178\n",
      "base: G \tdegeneracy: 4 \tgenomic position: 5737177\n"
     ]
    }
   ],
   "source": [
    "cds = example_transcript.cds(ref_genome_dictionary)\n",
    "degeneracy = example_transcript.cds_degen(ref_genome_dictionary)\n",
    "cds_map = example_transcript.cds_map()\n",
    "for position in range(12): # lets only look at the first 12 positions to avoid filling the screen!\n",
    "    print(\"base:\", cds[position],\"\\tdegeneracy:\",  degeneracy[position], \"\\tgenomic position:\",  cds_map[position])"
   ]
  },
  {
   "cell_type": "markdown",
   "metadata": {},
   "source": [
    "---\n",
    "# Introns\n",
    "---\n",
    "\n",
    "Although introns are not always recorded in GFFs my transcript class has a `introns` method that will infer the introns and add them to the `feats` dictionary as GFF line objects\n",
    "\n",
    "You can choose to infer introns from the exon or CDS features using the argument `which_exons` that specifies the feature type to use \n",
    "       - but be cautious as there are introns within UTR and using CDS may miss introns.\n"
   ]
  },
  {
   "cell_type": "code",
   "execution_count": 11,
   "metadata": {},
   "outputs": [
    {
     "name": "stdout",
     "output_type": "stream",
     "text": [
      "5732352 5732598\n",
      "5734912 5735125\n",
      "5731618 5731813\n",
      "5736950 5737038\n",
      "5735592 5735764\n",
      "5734570 5734774\n",
      "5736430 5736795\n"
     ]
    }
   ],
   "source": [
    "example_transcript.introns(which_exons='exon')\n",
    "\n",
    "for key, intron in example_transcript.feats['intron'].items():\n",
    "    print(intron.start, intron.end)"
   ]
  },
  {
   "cell_type": "code",
   "execution_count": null,
   "metadata": {},
   "outputs": [],
   "source": []
  }
 ],
 "metadata": {
  "kernelspec": {
   "display_name": "Python 3",
   "language": "python",
   "name": "python3"
  },
  "language_info": {
   "codemirror_mode": {
    "name": "ipython",
    "version": 3
   },
   "file_extension": ".py",
   "mimetype": "text/x-python",
   "name": "python",
   "nbconvert_exporter": "python",
   "pygments_lexer": "ipython3",
   "version": "3.5.1"
  }
 },
 "nbformat": 4,
 "nbformat_minor": 2
}
